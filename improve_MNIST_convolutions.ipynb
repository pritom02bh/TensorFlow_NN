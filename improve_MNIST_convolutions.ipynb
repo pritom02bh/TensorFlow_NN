{
  "nbformat": 4,
  "nbformat_minor": 0,
  "metadata": {
    "colab": {
      "name": "improve_MNIST_convolutions.ipynb",
      "provenance": []
    },
    "kernelspec": {
      "name": "python3",
      "display_name": "Python 3"
    },
    "language_info": {
      "name": "python"
    }
  },
  "cells": [
    {
      "cell_type": "code",
      "metadata": {
        "colab": {
          "base_uri": "https://localhost:8080/"
        },
        "id": "TCe0t_fFGsYO",
        "outputId": "88fa9349-b6d6-4be1-8395-da4142394da3"
      },
      "source": [
        "import tensorflow as tf\n",
        "print(tf.__version__)"
      ],
      "execution_count": 2,
      "outputs": [
        {
          "output_type": "stream",
          "text": [
            "2.5.0\n"
          ],
          "name": "stdout"
        }
      ]
    },
    {
      "cell_type": "code",
      "metadata": {
        "id": "AGuzZiziG2R4"
      },
      "source": [
        "# GRADED FUNCTION: train_mnist_conv\n",
        "def train_mnist_conv():\n",
        "    # Please write your code only where you are indicated.\n",
        "    # please do not remove model fitting inline comments.\n",
        "\n",
        "    class myCallback(tf.keras.callbacks.Callback):\n",
        "        def on_epoch_end(self, epoch, logs={}):\n",
        "            if(logs.get('accuracy')>0.998):\n",
        "                print(\"\\nReached 99.8% accuracy so cancelling training!\")\n",
        "                self.model.stop_training = True\n",
        "                \n",
        "    callbacks = myCallback()\n",
        "    \n",
        "\n",
        "    mnist = tf.keras.datasets.mnist\n",
        "    (training_images, training_labels), (test_images, test_labels) = mnist.load_data()\n",
        "    training_images = training_images.reshape(60000, 28, 28, 1)\n",
        "    training_images = training_images / 255.0\n",
        "    test_images = test_images.reshape(10000, 28, 28, 1)\n",
        "    test_images = test_images / 255.0\n",
        "    \n",
        "        \n",
        "    model = tf.keras.models.Sequential([\n",
        "        tf.keras.layers.Conv2D(64, (3,3), activation='relu', input_shape=(28,28,1)),\n",
        "        tf.keras.layers.MaxPooling2D(2,2),\n",
        "        tf.keras.layers.Flatten(),\n",
        "        tf.keras.layers.Dense(128, activation='relu'),\n",
        "        tf.keras.layers.Dense(10, activation='softmax')\n",
        "    ])\n",
        "\n",
        "    model.compile(optimizer='adam', loss='sparse_categorical_crossentropy', metrics=['accuracy'])\n",
        "    # model fitting\n",
        "    history = model.fit(training_images, training_labels, epochs=20, callbacks=[callbacks])\n",
        "    \n",
        "    # model fitting\n",
        "    return history.epoch, history.history['accuracy'][-1]\n"
      ],
      "execution_count": 5,
      "outputs": []
    },
    {
      "cell_type": "code",
      "metadata": {
        "colab": {
          "base_uri": "https://localhost:8080/"
        },
        "id": "0tfS1vVtHAbK",
        "outputId": "97358e51-3591-493a-d9ea-16144d6163b8"
      },
      "source": [
        "_, _ = train_mnist_conv()"
      ],
      "execution_count": 6,
      "outputs": [
        {
          "output_type": "stream",
          "text": [
            "Epoch 1/20\n",
            "1875/1875 [==============================] - 59s 31ms/step - loss: 0.1332 - accuracy: 0.9599\n",
            "Epoch 2/20\n",
            "1875/1875 [==============================] - 58s 31ms/step - loss: 0.0471 - accuracy: 0.9856\n",
            "Epoch 3/20\n",
            "1875/1875 [==============================] - 58s 31ms/step - loss: 0.0297 - accuracy: 0.9905\n",
            "Epoch 4/20\n",
            "1875/1875 [==============================] - 58s 31ms/step - loss: 0.0178 - accuracy: 0.9941\n",
            "Epoch 5/20\n",
            "1875/1875 [==============================] - 58s 31ms/step - loss: 0.0129 - accuracy: 0.9957\n",
            "Epoch 6/20\n",
            "1875/1875 [==============================] - 57s 31ms/step - loss: 0.0097 - accuracy: 0.9970\n",
            "Epoch 7/20\n",
            "1875/1875 [==============================] - 58s 31ms/step - loss: 0.0068 - accuracy: 0.9978\n",
            "Epoch 8/20\n",
            "1875/1875 [==============================] - 58s 31ms/step - loss: 0.0057 - accuracy: 0.9982\n",
            "\n",
            "Reached 99.8% accuracy so cancelling training!\n"
          ],
          "name": "stdout"
        }
      ]
    },
    {
      "cell_type": "code",
      "metadata": {
        "id": "x5W-4XGHHEd9"
      },
      "source": [
        ""
      ],
      "execution_count": null,
      "outputs": []
    }
  ]
}