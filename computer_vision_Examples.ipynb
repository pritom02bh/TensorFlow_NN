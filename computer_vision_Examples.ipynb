{
  "nbformat": 4,
  "nbformat_minor": 0,
  "metadata": {
    "colab": {
      "name": "computer_vision_Examples.ipynb",
      "provenance": []
    },
    "kernelspec": {
      "name": "python3",
      "display_name": "Python 3"
    },
    "language_info": {
      "name": "python"
    }
  },
  "cells": [
    {
      "cell_type": "code",
      "metadata": {
        "colab": {
          "base_uri": "https://localhost:8080/"
        },
        "id": "U_0vSSOjVEtC",
        "outputId": "5b3e7c6a-f225-482c-b3dd-9d22e807be53"
      },
      "source": [
        "import tensorflow as tf\n",
        "print(tf.__version__)"
      ],
      "execution_count": 1,
      "outputs": [
        {
          "output_type": "stream",
          "text": [
            "2.5.0\n"
          ],
          "name": "stdout"
        }
      ]
    },
    {
      "cell_type": "markdown",
      "metadata": {
        "id": "_HuPJjuvVPr_"
      },
      "source": [
        "The Fashion MNIST data is available directly in the tf.keras datasets API."
      ]
    },
    {
      "cell_type": "code",
      "metadata": {
        "id": "QmZrK0Z6VtrV"
      },
      "source": [
        "mnist = tf.keras.datasets.fashion_mnist"
      ],
      "execution_count": 2,
      "outputs": []
    },
    {
      "cell_type": "markdown",
      "metadata": {
        "id": "3KIr1YLHVFeT"
      },
      "source": [
        "\n",
        "Calling load_data on this object will give you two sets of two lists, these will be the training and testing values for the graphics that contain the clothing items and their labels."
      ]
    },
    {
      "cell_type": "code",
      "metadata": {
        "id": "o8zXE0w9ev_t"
      },
      "source": [
        "(training_images, training_labels), (test_images, test_labels) = mnist.load_data()"
      ],
      "execution_count": 3,
      "outputs": []
    },
    {
      "cell_type": "markdown",
      "metadata": {
        "id": "Awj0mTzeV_rn"
      },
      "source": [
        "Visual Look of  random training images and training labels from the dataset."
      ]
    },
    {
      "cell_type": "code",
      "metadata": {
        "colab": {
          "base_uri": "https://localhost:8080/",
          "height": 758
        },
        "id": "P3MBUIhcV40g",
        "outputId": "0cf68aab-01ff-4237-d8a9-059641cde90e"
      },
      "source": [
        "import numpy as np\n",
        "np.set_printoptions(linewidth=300)\n",
        "import matplotlib.pyplot as plt\n",
        "plt.imshow(training_images[10])\n",
        "print(training_labels[10])\n",
        "print(training_images[10])"
      ],
      "execution_count": 4,
      "outputs": [
        {
          "output_type": "stream",
          "text": [
            "0\n",
            "[[  0   0   0   0   0   0   0  11 142 200 106   0   0   0   0   0   0   0  85 185 112   0   0   0   0   0   0   0]\n",
            " [  0   0   0   0   0   0 152 214 217 194 236 216 187 149 135 153 211 217 231 205 217 188  34   0   0   0   0   0]\n",
            " [  0   0   0   0   0  66 185 166 180 181 190 211 221 197 146 198 206 191 168 190 172 188 175   0   0   0   0   0]\n",
            " [  0   0   0   0   0 135 153 160 175 180 170 186 187 190 188 190 187 174 195 185 174 161 175  59   0   0   0   0]\n",
            " [  0   0   0   0   0 161 147 160 170 178 177 180 168 173 174 171 185 184 185 172 171 164 174 120   0   0   0   0]\n",
            " [  0   0   0   0   2 175 146 145 168 178 181 185 180 184 178 179 187 191 193 190 181 171 172 158   0   0   0   0]\n",
            " [  0   0   0   0  35 177 155 140 151 172 191 187 186 187 186 187 182 191 194 188 180 161 161 185   0   0   0   0]\n",
            " [  0   0   0   0  59 170 153 141 120 154 160 161 172 168 166 161 165 172 170 164 139 149 162 166  21   0   0   0]\n",
            " [  0   0   0   0  79 145 160 214 123 128 153 160 164 158 157 154 155 170 165 141 195 193 152 166  61   0   0   0]\n",
            " [  0   0   0   0 100 157 225 245 175 113 174 158 158 160 155 160 164 178 188 135 185 240 201 172 108   0   0   0]\n",
            " [  0   0   0   0   0  31 174  28 126 153 166 152 158 158 160 161 157 168 191 188  18 132 159   7   0   0   0   0]\n",
            " [  0   0   0   0   0   0   0   0  82 187 159 153 157 158 162 164 164 154 187 190   0   0   0   0   0   0   0   0]\n",
            " [  0   0   0   0   1   3   5   0  37 175 158 155 162 158 160 162 165 153 177 205   0   0   3   3   0   0   0   0]\n",
            " [  0   0   0   0   0   0   1   0  25 175 152 160 158 161 160 164 164 161 166 200   0   0   1   0   0   0   0   0]\n",
            " [  0   0   0   0   0   0   4   0  30 171 147 164 155 165 161 165 162 170 164 162   0   0   2   0   0   0   0   0]\n",
            " [  0   0   0   0   0   0   4   0  57 166 155 164 166 161 161 164 167 165 165 162  28   0   3   0   0   0   0   0]\n",
            " [  0   0   0   0   0   0   3   0 114 161 161 166 159 168 161 161 172 162 165 171  50   0   5   0   0   0   0   0]\n",
            " [  0   0   0   0   0   0   1   0 149 157 167 172 159 172 164 161 172 170 160 171  89   0   4   0   0   0   0   0]\n",
            " [  0   0   0   0   0   2   0   4 171 164 166 173 159 179 166 160 174 167 162 166 128   0   2   0   0   0   0   0]\n",
            " [  0   0   0   0   0   3   0  18 152 173 160 179 154 181 166 164 175 170 166 170 164   0   0   1   0   0   0   0]\n",
            " [  0   0   0   0   0   4   0  47 165 172 167 185 153 187 173 165 174 179 166 166 158   5   0   3   0   0   0   0]\n",
            " [  0   0   0   0   0   4   0  87 180 162 179 179 157 191 182 165 168 190 173 165 166  20   0   4   0   0   0   0]\n",
            " [  0   0   0   0   0   4   0 105 187 157 194 175 161 190 184 170 158 205 177 168 171  44   0   4   0   0   0   0]\n",
            " [  0   0   0   0   0   5   0 138 181 158 205 160 167 190 198 167 152 218 186 170 172  57   0   5   0   0   0   0]\n",
            " [  0   0   0   0   0   5   0 135 174 167 199 155 166 201 219 165 158 218 188 167 175  56   0   7   0   0   0   0]\n",
            " [  0   0   0   0   0   5   0 129 171 172 177 153 159 206 216 148 157 206 190 165 175  48   0   5   0   0   0   0]\n",
            " [  0   0   0   0   0   5   0 167 187 182 198 194 200 226 240 184 206 255 197 178 179  42   0   5   0   0   0   0]\n",
            " [  0   0   0   0   0   3   0 115 135 113 106  85  82 108 133  83  90 121 120 110 158  18   0   3   0   0   0   0]]\n"
          ],
          "name": "stdout"
        },
        {
          "output_type": "display_data",
          "data": {
            "image/png": "[encoded data removed]",
            "text/plain": [
              "<Figure size 432x288 with 1 Axes>"
            ]
          },
          "metadata": {
            "tags": [],
            "needs_background": "light"
          }
        }
      ]
    },
    {
      "cell_type": "markdown",
      "metadata": {
        "id": "AjHjRWfYXMGj"
      },
      "source": [
        "## Normalizing"
      ]
    },
    {
      "cell_type": "code",
      "metadata": {
        "id": "4aoAIxDrWzTm"
      },
      "source": [
        "training_images = training_images / 255.0\n",
        "test_images = test_images / 255.0"
      ],
      "execution_count": 5,
      "outputs": []
    },
    {
      "cell_type": "markdown",
      "metadata": {
        "id": "jxdKTbXhZBXr"
      },
      "source": [
        "## Model"
      ]
    },
    {
      "cell_type": "code",
      "metadata": {
        "id": "c3b6_N1WY4lE"
      },
      "source": [
        "model = tf.keras.models.Sequential([tf.keras.layers.Flatten(),\n",
        "                                    tf.keras.layers.Dense(128, activation = tf.nn.relu),\n",
        "                                    tf.keras.layers.Dense(10, activation = tf.nn.softmax)])"
      ],
      "execution_count": 6,
      "outputs": []
    },
    {
      "cell_type": "markdown",
      "metadata": {
        "id": "eiuRsFz7Z6Au"
      },
      "source": [
        "**Sequential**: That defines a SEQUENCE of layers in the neural network\n",
        "\n",
        "**Flatten**: Remember earlier where our images were a square, when you printed them out? Flatten just takes that square and turns it into a 1 dimensional set.\n",
        "\n",
        "**Dense**: Adds a layer of neurons\n",
        "\n",
        "Each layer of neurons need an **activation function** to tell them what to do. There's lots of options, but just use these for now.\n",
        "\n",
        "**Relu** effectively means \"If X>0 return X, else return 0\" -- so what it does it it only passes values 0 or greater to the next layer in the network.\n",
        "\n",
        "**Softmax** takes a set of values, and effectively picks the biggest one, so, for example, if the output of the last layer looks like [0.1, 0.1, 0.05, 0.1, 9.5, 0.1, 0.05, 0.05, 0.05], it saves you from fishing through it looking for the biggest value, and turns it into [0,0,0,0,1,0,0,0,0] -- The goal is to save a lot of coding!"
      ]
    },
    {
      "cell_type": "markdown",
      "metadata": {
        "id": "2JRbnB0ucdGW"
      },
      "source": [
        "## The model is defined and we will Now actually build it.\n",
        "We will do this by compiling it with an optimizer and loss function and then we train it by calling **model.fit**, asking it to fit our training data to our training labels.\n",
        "\n",
        "---> It will figure out a relationship between the training data and its actual labels. So in future if we have data that looks like the training data, then it will make a prediction for what that data would look like. "
      ]
    },
    {
      "cell_type": "code",
      "metadata": {
        "colab": {
          "base_uri": "https://localhost:8080/"
        },
        "id": "Y4QgS2zKZxlt",
        "outputId": "76bc86fe-a56c-46db-ed63-231d288e7971"
      },
      "source": [
        "model.compile(optimizer = tf.optimizers.Adam(),\n",
        "              loss = 'sparse_categorical_crossentropy',\n",
        "              metrics=['accuracy'])\n",
        "\n",
        "model.fit(training_images, training_labels, epochs = 15)"
      ],
      "execution_count": 7,
      "outputs": [
        {
          "output_type": "stream",
          "text": [
            "Epoch 1/15\n",
            "1875/1875 [==============================] - 4s 2ms/step - loss: 0.5006 - accuracy: 0.8244\n",
            "Epoch 2/15\n",
            "1875/1875 [==============================] - 4s 2ms/step - loss: 0.3788 - accuracy: 0.8635\n",
            "Epoch 3/15\n",
            "1875/1875 [==============================] - 4s 2ms/step - loss: 0.3397 - accuracy: 0.8767\n",
            "Epoch 4/15\n",
            "1875/1875 [==============================] - 4s 2ms/step - loss: 0.3150 - accuracy: 0.8846\n",
            "Epoch 5/15\n",
            "1875/1875 [==============================] - 4s 2ms/step - loss: 0.2968 - accuracy: 0.8923\n",
            "Epoch 6/15\n",
            "1875/1875 [==============================] - 4s 2ms/step - loss: 0.2837 - accuracy: 0.8949\n",
            "Epoch 7/15\n",
            "1875/1875 [==============================] - 4s 2ms/step - loss: 0.2700 - accuracy: 0.8999\n",
            "Epoch 8/15\n",
            "1875/1875 [==============================] - 4s 2ms/step - loss: 0.2579 - accuracy: 0.9038\n",
            "Epoch 9/15\n",
            "1875/1875 [==============================] - 4s 2ms/step - loss: 0.2482 - accuracy: 0.9073\n",
            "Epoch 10/15\n",
            "1875/1875 [==============================] - 3s 2ms/step - loss: 0.2413 - accuracy: 0.9098\n",
            "Epoch 11/15\n",
            "1875/1875 [==============================] - 4s 2ms/step - loss: 0.2319 - accuracy: 0.9128\n",
            "Epoch 12/15\n",
            "1875/1875 [==============================] - 4s 2ms/step - loss: 0.2251 - accuracy: 0.9156\n",
            "Epoch 13/15\n",
            "1875/1875 [==============================] - 4s 2ms/step - loss: 0.2173 - accuracy: 0.9182\n",
            "Epoch 14/15\n",
            "1875/1875 [==============================] - 4s 2ms/step - loss: 0.2116 - accuracy: 0.9210\n",
            "Epoch 15/15\n",
            "1875/1875 [==============================] - 4s 2ms/step - loss: 0.2050 - accuracy: 0.9233\n"
          ],
          "name": "stdout"
        },
        {
          "output_type": "execute_result",
          "data": {
            "text/plain": [
              "<tensorflow.python.keras.callbacks.History at 0x7fa1f6a5e250>"
            ]
          },
          "metadata": {
            "tags": []
          },
          "execution_count": 7
        }
      ]
    },
    {
      "cell_type": "markdown",
      "metadata": {
        "id": "ym5MWVrng02F"
      },
      "source": [
        "So, the neural network is about 92% accurate in training datasets."
      ]
    },
    {
      "cell_type": "markdown",
      "metadata": {
        "id": "xUlL2B2w21iG"
      },
      "source": [
        "## Model Evaluation"
      ]
    },
    {
      "cell_type": "code",
      "metadata": {
        "colab": {
          "base_uri": "https://localhost:8080/"
        },
        "id": "tMaRKOOke1z0",
        "outputId": "8fb1f91e-d52a-4564-e07c-e7cdd4af44b2"
      },
      "source": [
        "model.evaluate(test_images, test_labels)"
      ],
      "execution_count": 8,
      "outputs": [
        {
          "output_type": "stream",
          "text": [
            "313/313 [==============================] - 1s 1ms/step - loss: 0.3492 - accuracy: 0.8828\n"
          ],
          "name": "stdout"
        },
        {
          "output_type": "execute_result",
          "data": {
            "text/plain": [
              "[0.34919148683547974, 0.8827999830245972]"
            ]
          },
          "metadata": {
            "tags": []
          },
          "execution_count": 8
        }
      ]
    },
    {
      "cell_type": "markdown",
      "metadata": {
        "id": "HBsCvsFz3HYp"
      },
      "source": [
        "The Neural Network has 88% of accuracy with the test data."
      ]
    },
    {
      "cell_type": "code",
      "metadata": {
        "colab": {
          "base_uri": "https://localhost:8080/"
        },
        "id": "fNFG60ls2-Zg",
        "outputId": "39a22304-b930-42e2-a5db-6841b8c96ab4"
      },
      "source": [
        "classifications = model.predict(test_images)\n",
        "\n",
        "print(classifications[0])"
      ],
      "execution_count": 9,
      "outputs": [
        {
          "output_type": "stream",
          "text": [
            "[1.8443165e-09 1.6102093e-10 8.4254069e-11 6.8451841e-11 1.0850396e-08 2.9896788e-05 3.5019983e-07 7.7657048e-03 2.4178352e-08 9.9220407e-01]\n"
          ],
          "name": "stdout"
        }
      ]
    },
    {
      "cell_type": "code",
      "metadata": {
        "colab": {
          "base_uri": "https://localhost:8080/"
        },
        "id": "MRzOalYs4Rbd",
        "outputId": "fbff0f56-65d6-4e08-af9b-408404a324f2"
      },
      "source": [
        "print(test_labels[110])"
      ],
      "execution_count": 14,
      "outputs": [
        {
          "output_type": "stream",
          "text": [
            "2\n"
          ],
          "name": "stdout"
        }
      ]
    },
    {
      "cell_type": "code",
      "metadata": {
        "id": "n8i4EHga6WnC"
      },
      "source": [
        ""
      ],
      "execution_count": null,
      "outputs": []
    }
  ]
}